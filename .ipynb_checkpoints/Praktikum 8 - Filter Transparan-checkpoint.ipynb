{
 "cells": [
  {
   "cell_type": "markdown",
   "metadata": {},
   "source": [
    "# Praktikum 8 | Pengolahan Citra"
   ]
  },
  {
   "cell_type": "markdown",
   "metadata": {},
   "source": [
    "## Filter Transparan"
   ]
  },
  {
   "cell_type": "markdown",
   "metadata": {},
   "source": [
    "Fadhil Yori Hibatullah | 2103161037 | 2 D3 Teknik Informatika B"
   ]
  },
  {
   "cell_type": "markdown",
   "metadata": {},
   "source": [
    "----------------------------"
   ]
  },
  {
   "cell_type": "markdown",
   "metadata": {},
   "source": [
    "### Import Library"
   ]
  },
  {
   "cell_type": "code",
   "execution_count": 1,
   "metadata": {},
   "outputs": [],
   "source": [
    "import numpy as np\n",
    "import imageio\n",
    "import matplotlib.pyplot as plt"
   ]
  },
  {
   "cell_type": "markdown",
   "metadata": {},
   "source": [
    "### Membaca Gambar"
   ]
  },
  {
   "cell_type": "code",
   "execution_count": 2,
   "metadata": {},
   "outputs": [],
   "source": [
    "img1 = imageio.imread(\"gambar1.png\") # dasar\n",
    "img2 = imageio.imread(\"gambar2.png\")"
   ]
  },
  {
   "cell_type": "code",
   "execution_count": 3,
   "metadata": {},
   "outputs": [
    {
     "name": "stdout",
     "output_type": "stream",
     "text": [
      "(183, 183, 3)\n"
     ]
    }
   ],
   "source": [
    "img_height = img1.shape[0]\n",
    "img_width = img1.shape[1]\n",
    "img_channel = img1.shape[2]\n",
    "\n",
    "if img1.shape[0] > img2.shape[0]:\n",
    "    height = img1.shape[0]\n",
    "else:\n",
    "    height = img2.shape[0]\n",
    "    \n",
    "if img1.shape[1] > img2.shape[1]:\n",
    "    width = img1.shape[1]\n",
    "else:\n",
    "    width = img2.shape[1]\n",
    "    \n",
    "imshape = (height, width, 3)\n",
    "print(imshape)"
   ]
  },
  {
   "cell_type": "markdown",
   "metadata": {},
   "source": [
    "-----------------------------"
   ]
  },
  {
   "cell_type": "markdown",
   "metadata": {},
   "source": [
    "## Menggabungkan kedua gambar, dengan img1 merupakan bagian dasar"
   ]
  },
  {
   "cell_type": "code",
   "execution_count": 4,
   "metadata": {},
   "outputs": [],
   "source": [
    "img_trans = np.zeros(imshape, dtype=np.uint8)\n",
    "\n",
    "for y in range(0, height):\n",
    "    for x in range(0, width):\n",
    "        try:\n",
    "            r1 = img1[y][x][0]\n",
    "            g1 = img1[y][x][1]\n",
    "            b1 = img1[y][x][2]\n",
    "        except:\n",
    "            r1 = 0\n",
    "            g1 = 0\n",
    "            b1 = 0\n",
    "        try:\n",
    "            r2 = img2[y][x][0]\n",
    "            g2 = img2[y][x][1]\n",
    "            b2 = img2[y][x][2]\n",
    "        except:\n",
    "            r2 = 0\n",
    "            g2 = 0\n",
    "            b2 = 0\n",
    "        r = (0.5 * r1) + (0.5 * r2)\n",
    "        g = (0.5 * g1) + (0.5 * g2)\n",
    "        b = (0.5 * b1) + (0.5 * b2)\n",
    "        img_trans[y][x] = (r,g,b)"
   ]
  },
  {
   "cell_type": "code",
   "execution_count": 5,
   "metadata": {},
   "outputs": [
    {
     "data": {
      "image/png": "[encoded data removed]",
      "text/plain": [
       "<Figure size 432x288 with 1 Axes>"
      ]
     },
     "metadata": {},
     "output_type": "display_data"
    }
   ],
   "source": [
    "plt.imshow(img_trans)\n",
    "plt.title(\"Done\")\n",
    "plt.show()"
   ]
  },
  {
   "cell_type": "code",
   "execution_count": null,
   "metadata": {},
   "outputs": [],
   "source": []
  }
 ],
 "metadata": {
  "kernelspec": {
   "display_name": "Python 3",
   "language": "python",
   "name": "python3"
  },
  "language_info": {
   "codemirror_mode": {
    "name": "ipython",
    "version": 3
   },
   "file_extension": ".py",
   "mimetype": "text/x-python",
   "name": "python",
   "nbconvert_exporter": "python",
   "pygments_lexer": "ipython3",
   "version": "3.6.5"
  }
 },
 "nbformat": 4,
 "nbformat_minor": 2
}
